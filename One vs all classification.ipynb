{
 "cells": [
  {
   "cell_type": "code",
   "execution_count": 1,
   "metadata": {},
   "outputs": [],
   "source": [
    "import numpy as np\n",
    "import math"
   ]
  },
  {
   "cell_type": "code",
   "execution_count": 2,
   "metadata": {},
   "outputs": [],
   "source": [
    "def scaling(X):\n",
    "    Xmax=np.max(X,axis=0)\n",
    "    Xmin=np.min(X,axis=0)\n",
    "    Xmean=np.mean(X,axis=0)\n",
    "    X=np.divide(np.subtract(X,Xmean),np.subtract(Xmax,Xmin))\n",
    "    return X"
   ]
  },
  {
   "cell_type": "code",
   "execution_count": 3,
   "metadata": {},
   "outputs": [],
   "source": [
    "def hypo(theta,X):\n",
    "    return np.dot(X,theta)"
   ]
  },
  {
   "cell_type": "code",
   "execution_count": 4,
   "metadata": {},
   "outputs": [],
   "source": [
    "def sigmoid(X):\n",
    "    m1=X.shape\n",
    "    val=np.ones(m1)\n",
    "    val=np.multiply(val,math.exp(1))\n",
    "    X=np.multiply(X,-1)\n",
    "    val=np.power(val,X)\n",
    "    val=np.add(np.ones(m1),val)\n",
    "    val=np.divide(np.ones(m1),val)\n",
    "    return val"
   ]
  },
  {
   "cell_type": "code",
   "execution_count": 5,
   "metadata": {},
   "outputs": [],
   "source": [
    "def costFunc(theta,X,Y):\n",
    "    m1,n1=X.shape\n",
    "    Y1=np.subtract(1,Y)\n",
    "    H=sigmoid(hypo(theta,X))\n",
    "    H1=np.subtract(1,H)\n",
    "    H=np.log(H)\n",
    "    H1=np.log(H1)\n",
    "    cost=np.add(np.dot(Y.T,H),np.dot(Y1.T,H1))\n",
    "    cost=np.divide(cost,-1*m1)\n",
    "    return cost"
   ]
  },
  {
   "cell_type": "code",
   "execution_count": 6,
   "metadata": {},
   "outputs": [],
   "source": [
    "def derCost(theta,X,Y):\n",
    "    m1,n1=X.shape\n",
    "    diff=np.subtract(sigmoid(hypo(theta,X)),Y)\n",
    "    diff=np.dot(X.T,diff)\n",
    "    return np.divide(diff,m1)"
   ]
  },
  {
   "cell_type": "code",
   "execution_count": 7,
   "metadata": {},
   "outputs": [],
   "source": [
    "def gradientDescent(theta,X,Y,alpha):\n",
    "    deri=derCost(theta,X,Y)\n",
    "    theta=np.subtract(theta,np.multiply(deri,alpha))\n",
    "    return theta"
   ]
  },
  {
   "cell_type": "code",
   "execution_count": 8,
   "metadata": {},
   "outputs": [],
   "source": [
    "trainingExample=np.loadtxt(fname='ex2data2.txt' ,delimiter=',')"
   ]
  },
  {
   "cell_type": "code",
   "execution_count": 9,
   "metadata": {},
   "outputs": [],
   "source": [
    "m,n=trainingExample.shape\n",
    "n=n-1"
   ]
  },
  {
   "cell_type": "code",
   "execution_count": 10,
   "metadata": {},
   "outputs": [],
   "source": [
    "X=np.copy(trainingExample[:,:n])\n",
    "Y=trainingExample[:,n]\n",
    "for i in range(n):\n",
    "    x=np.ones((m,1))\n",
    "    for j in range(m):\n",
    "        x[j]=X[j,i]\n",
    "    X=np.concatenate((X,np.multiply(x,x)),axis=1)\n",
    "X=scaling(X)\n",
    "n=2*n\n",
    "ones=np.ones((m,1))\n",
    "X=np.concatenate((ones,X,),axis=1)\n",
    "max1=np.max(Y)\n",
    "min1=np.min(Y)\n",
    "Y1=np.zeros((m,int(max1-min1+1)))\n",
    "for i in range(m):\n",
    "    Y1[i,int(Y[i]-min1)]=1"
   ]
  },
  {
   "cell_type": "code",
   "execution_count": 11,
   "metadata": {},
   "outputs": [],
   "source": [
    "theta=np.zeros((n+1,int(max1-min1+1)))"
   ]
  },
  {
   "cell_type": "code",
   "execution_count": 12,
   "metadata": {},
   "outputs": [],
   "source": [
    "alpha=0.1\n",
    "iterations=1500"
   ]
  },
  {
   "cell_type": "code",
   "execution_count": 13,
   "metadata": {},
   "outputs": [],
   "source": [
    "for j in range(int(max1-min1+1)):\n",
    "    for i in range (iterations):\n",
    "        theta[:,j]=gradientDescent(theta[:,j],X,Y1[:,j],alpha)"
   ]
  },
  {
   "cell_type": "code",
   "execution_count": 14,
   "metadata": {},
   "outputs": [],
   "source": [
    "output=hypo(theta,X)"
   ]
  },
  {
   "cell_type": "code",
   "execution_count": 15,
   "metadata": {},
   "outputs": [],
   "source": [
    "for i in range(m):\n",
    "    max2=np.max(output[i])\n",
    "    for j in range(int(max1-min1+1)):\n",
    "        if output[i,j]==max2:\n",
    "            output[i,0]=j+min1\n",
    "#output[:,0] is the final predicted output\n",
    "\n",
    "count=0\n",
    "for i in range(m):\n",
    "    if output[i,0]==Y[i]:\n",
    "        count=count+1"
   ]
  },
  {
   "cell_type": "code",
   "execution_count": 16,
   "metadata": {},
   "outputs": [
    {
     "name": "stdout",
     "output_type": "stream",
     "text": [
      "77.11864406779661\n"
     ]
    }
   ],
   "source": [
    "print(count/m*100)"
   ]
  }
 ],
 "metadata": {
  "kernelspec": {
   "display_name": "Python 3",
   "language": "python",
   "name": "python3"
  },
  "language_info": {
   "codemirror_mode": {
    "name": "ipython",
    "version": 3
   },
   "file_extension": ".py",
   "mimetype": "text/x-python",
   "name": "python",
   "nbconvert_exporter": "python",
   "pygments_lexer": "ipython3",
   "version": "3.7.4"
  }
 },
 "nbformat": 4,
 "nbformat_minor": 2
}
